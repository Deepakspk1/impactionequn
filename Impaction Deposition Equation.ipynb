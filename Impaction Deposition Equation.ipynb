{
 "cells": [
  {
   "cell_type": "code",
   "execution_count": 1,
   "id": "2b2c092c",
   "metadata": {},
   "outputs": [],
   "source": [
    "import pandas as pd\n",
    "import numpy as np\n",
    "from matplotlib import pyplot as plt\n",
    "import sympy as sp\n",
    "from sympy.solvers import solve\n",
    "from sympy import Symbol\n",
    "import math\n",
    "font = {'family': 'serif',\n",
    "        'color':  'black',\n",
    "        'weight': 'normal',\n",
    "        'size': 16,\n",
    "        }"
   ]
  },
  {
   "cell_type": "code",
   "execution_count": null,
   "id": "491f8334",
   "metadata": {},
   "outputs": [],
   "source": [
    "dimST = np.arange(1.3, 1.7, 0.1)\n",
    "St = 1.3\n",
    "dep = []\n",
    "while St < 1.7:\n",
    "    \n",
    "    Ro = 30 #radius of bending\n",
    "    K = 4/Ro * St\n",
    "    \n",
    "#find A and B using the Stokes Number\n",
    "\n",
    "    A = (((K**2 + 1)**(1/2) + 1)*0.5)**(1/2)\n",
    "\n",
    "    B = 0.5 * K/A\n",
    "\n",
    "\n",
    "#     from scipy.optimize import fsolve\n",
    "#     def func(x):\n",
    "#         a = -A**2 - B**2 + B**3 * np.tan(B*x) - A**3 * np.tanh(A*x)\n",
    "#         return x\n",
    "\n",
    "#     a= fsolve(func,0.1)\n",
    "    #solve( -A**2 - B**2 + B**3 * np.tan(B*x) - A**3 * np.tanh(A*x), x, 1)\n",
    "    \n",
    "\n",
    "    x = Symbol('x')\n",
    "    \n",
    "    solve( -A**2 - B**2 + B**3 * sp.tan(B*x) - A**3 * sp.tanh(A*x), x, 1)\n",
    "    root = (x)\n",
    "\n",
    "\n",
    "\n",
    "    eta1 =  B**3 /(A**2 + B**2) *np.cos(B*root)*np.sinh(A*root)\n",
    "\n",
    "    eta2 = np.sin(B*root)* (np.sinh(A*root) + (A**3 / (A**2 + B**2) *np.cosh(A*root)) )\n",
    "\n",
    "\n",
    "    eta = eta1 + eta2\n",
    "\n",
    "\n",
    "    BB = (eta - np.exp(root))**2\n",
    "    CC = (eta + np.exp(root))**2\n",
    "    ZC1 = 1 - (Ro**2 * BB/CC)\n",
    "    #ZC2 = ZC1**2\n",
    "    ZC = (ZC1)**(1/4)\n",
    "    #ZC = 0\n",
    "    \n",
    "     \n",
    "\n",
    "\n",
    "\n",
    "    m = (Ro**2 +1 )*ZC - 1/3 * ZC**3\n",
    "\n",
    "    n = -1 + (1/(eta**2) *np.exp(2 *root))\n",
    "    p = (1 + (1/(eta**2) *np.exp(2 *root))) *Ro\n",
    "\n",
    "    o = ZC *(1- (ZC**2))**(1/2) + math.asin(ZC)\n",
    "\n",
    "    Imp0 = 1/(3.14*Ro)*((m *n) + (Ro *p *o))\n",
    "\n",
    "    imp = 1-Imp0\n",
    "    \n",
    "    dep.append(imp)\n",
    "    \n",
    "    St+= 0.1\n",
    "\n",
    "\n",
    "plt.plot(dimST, dep, '.')"
   ]
  },
  {
   "cell_type": "code",
   "execution_count": null,
   "id": "8851455b",
   "metadata": {},
   "outputs": [],
   "source": [
    "\n",
    "    plt.plot(dimST, dep, '.')\n",
    "#     plt.ylim([0, 1])\n",
    "#     plt.xlim([0.4, 1])"
   ]
  },
  {
   "cell_type": "code",
   "execution_count": 331,
   "id": "b406ebf4",
   "metadata": {},
   "outputs": [
    {
     "ename": "ValueError",
     "evalue": "x and y must have same first dimension, but have shapes (140,) and (160,)",
     "output_type": "error",
     "traceback": [
      "\u001b[0;31m---------------------------------------------------------------------------\u001b[0m",
      "\u001b[0;31mValueError\u001b[0m                                Traceback (most recent call last)",
      "Input \u001b[0;32mIn [331]\u001b[0m, in \u001b[0;36m<cell line: 4>\u001b[0;34m()\u001b[0m\n\u001b[1;32m      1\u001b[0m fig \u001b[38;5;241m=\u001b[39m plt\u001b[38;5;241m.\u001b[39mfigure()\n\u001b[1;32m      2\u001b[0m ax \u001b[38;5;241m=\u001b[39m fig\u001b[38;5;241m.\u001b[39madd_axes([\u001b[38;5;241m0\u001b[39m, \u001b[38;5;241m0\u001b[39m, \u001b[38;5;241m1\u001b[39m, \u001b[38;5;241m1\u001b[39m])\n\u001b[0;32m----> 4\u001b[0m \u001b[43max\u001b[49m\u001b[38;5;241;43m.\u001b[39;49m\u001b[43mplot\u001b[49m\u001b[43m(\u001b[49m\u001b[43mdimST\u001b[49m\u001b[43m,\u001b[49m\u001b[43m \u001b[49m\u001b[43mdep\u001b[49m\u001b[43m,\u001b[49m\u001b[43m \u001b[49m\u001b[38;5;124;43m'\u001b[39;49m\u001b[38;5;124;43m:.\u001b[39;49m\u001b[38;5;124;43m'\u001b[39;49m\u001b[43m)\u001b[49m\n\u001b[1;32m      6\u001b[0m ax\u001b[38;5;241m.\u001b[39mxaxis\u001b[38;5;241m.\u001b[39mset_tick_params(which \u001b[38;5;241m=\u001b[39m \u001b[38;5;124m'\u001b[39m\u001b[38;5;124mmajor\u001b[39m\u001b[38;5;124m'\u001b[39m, size \u001b[38;5;241m=\u001b[39m \u001b[38;5;241m5\u001b[39m, width\u001b[38;5;241m=\u001b[39m \u001b[38;5;241m2\u001b[39m, direction \u001b[38;5;241m=\u001b[39m \u001b[38;5;124m'\u001b[39m\u001b[38;5;124min\u001b[39m\u001b[38;5;124m'\u001b[39m, top \u001b[38;5;241m=\u001b[39m \u001b[38;5;124m'\u001b[39m\u001b[38;5;124moff\u001b[39m\u001b[38;5;124m'\u001b[39m)\n\u001b[1;32m      7\u001b[0m ax\u001b[38;5;241m.\u001b[39myaxis\u001b[38;5;241m.\u001b[39mset_tick_params(which \u001b[38;5;241m=\u001b[39m \u001b[38;5;124m'\u001b[39m\u001b[38;5;124mmajor\u001b[39m\u001b[38;5;124m'\u001b[39m, size \u001b[38;5;241m=\u001b[39m \u001b[38;5;241m5\u001b[39m, width\u001b[38;5;241m=\u001b[39m \u001b[38;5;241m2\u001b[39m, direction \u001b[38;5;241m=\u001b[39m \u001b[38;5;124m'\u001b[39m\u001b[38;5;124min\u001b[39m\u001b[38;5;124m'\u001b[39m, top \u001b[38;5;241m=\u001b[39m \u001b[38;5;124m'\u001b[39m\u001b[38;5;124moff\u001b[39m\u001b[38;5;124m'\u001b[39m)\n",
      "File \u001b[0;32m~/opt/anaconda3/lib/python3.9/site-packages/matplotlib/axes/_axes.py:1632\u001b[0m, in \u001b[0;36mAxes.plot\u001b[0;34m(self, scalex, scaley, data, *args, **kwargs)\u001b[0m\n\u001b[1;32m   1390\u001b[0m \u001b[38;5;124;03m\"\"\"\u001b[39;00m\n\u001b[1;32m   1391\u001b[0m \u001b[38;5;124;03mPlot y versus x as lines and/or markers.\u001b[39;00m\n\u001b[1;32m   1392\u001b[0m \n\u001b[0;32m   (...)\u001b[0m\n\u001b[1;32m   1629\u001b[0m \u001b[38;5;124;03m(``'green'``) or hex strings (``'#008000'``).\u001b[39;00m\n\u001b[1;32m   1630\u001b[0m \u001b[38;5;124;03m\"\"\"\u001b[39;00m\n\u001b[1;32m   1631\u001b[0m kwargs \u001b[38;5;241m=\u001b[39m cbook\u001b[38;5;241m.\u001b[39mnormalize_kwargs(kwargs, mlines\u001b[38;5;241m.\u001b[39mLine2D)\n\u001b[0;32m-> 1632\u001b[0m lines \u001b[38;5;241m=\u001b[39m [\u001b[38;5;241m*\u001b[39m\u001b[38;5;28mself\u001b[39m\u001b[38;5;241m.\u001b[39m_get_lines(\u001b[38;5;241m*\u001b[39margs, data\u001b[38;5;241m=\u001b[39mdata, \u001b[38;5;241m*\u001b[39m\u001b[38;5;241m*\u001b[39mkwargs)]\n\u001b[1;32m   1633\u001b[0m \u001b[38;5;28;01mfor\u001b[39;00m line \u001b[38;5;129;01min\u001b[39;00m lines:\n\u001b[1;32m   1634\u001b[0m     \u001b[38;5;28mself\u001b[39m\u001b[38;5;241m.\u001b[39madd_line(line)\n",
      "File \u001b[0;32m~/opt/anaconda3/lib/python3.9/site-packages/matplotlib/axes/_base.py:312\u001b[0m, in \u001b[0;36m_process_plot_var_args.__call__\u001b[0;34m(self, data, *args, **kwargs)\u001b[0m\n\u001b[1;32m    310\u001b[0m     this \u001b[38;5;241m+\u001b[39m\u001b[38;5;241m=\u001b[39m args[\u001b[38;5;241m0\u001b[39m],\n\u001b[1;32m    311\u001b[0m     args \u001b[38;5;241m=\u001b[39m args[\u001b[38;5;241m1\u001b[39m:]\n\u001b[0;32m--> 312\u001b[0m \u001b[38;5;28;01myield from\u001b[39;00m \u001b[38;5;28;43mself\u001b[39;49m\u001b[38;5;241;43m.\u001b[39;49m\u001b[43m_plot_args\u001b[49m\u001b[43m(\u001b[49m\u001b[43mthis\u001b[49m\u001b[43m,\u001b[49m\u001b[43m \u001b[49m\u001b[43mkwargs\u001b[49m\u001b[43m)\u001b[49m\n",
      "File \u001b[0;32m~/opt/anaconda3/lib/python3.9/site-packages/matplotlib/axes/_base.py:498\u001b[0m, in \u001b[0;36m_process_plot_var_args._plot_args\u001b[0;34m(self, tup, kwargs, return_kwargs)\u001b[0m\n\u001b[1;32m    495\u001b[0m     \u001b[38;5;28mself\u001b[39m\u001b[38;5;241m.\u001b[39maxes\u001b[38;5;241m.\u001b[39myaxis\u001b[38;5;241m.\u001b[39mupdate_units(y)\n\u001b[1;32m    497\u001b[0m \u001b[38;5;28;01mif\u001b[39;00m x\u001b[38;5;241m.\u001b[39mshape[\u001b[38;5;241m0\u001b[39m] \u001b[38;5;241m!=\u001b[39m y\u001b[38;5;241m.\u001b[39mshape[\u001b[38;5;241m0\u001b[39m]:\n\u001b[0;32m--> 498\u001b[0m     \u001b[38;5;28;01mraise\u001b[39;00m \u001b[38;5;167;01mValueError\u001b[39;00m(\u001b[38;5;124mf\u001b[39m\u001b[38;5;124m\"\u001b[39m\u001b[38;5;124mx and y must have same first dimension, but \u001b[39m\u001b[38;5;124m\"\u001b[39m\n\u001b[1;32m    499\u001b[0m                      \u001b[38;5;124mf\u001b[39m\u001b[38;5;124m\"\u001b[39m\u001b[38;5;124mhave shapes \u001b[39m\u001b[38;5;132;01m{\u001b[39;00mx\u001b[38;5;241m.\u001b[39mshape\u001b[38;5;132;01m}\u001b[39;00m\u001b[38;5;124m and \u001b[39m\u001b[38;5;132;01m{\u001b[39;00my\u001b[38;5;241m.\u001b[39mshape\u001b[38;5;132;01m}\u001b[39;00m\u001b[38;5;124m\"\u001b[39m)\n\u001b[1;32m    500\u001b[0m \u001b[38;5;28;01mif\u001b[39;00m x\u001b[38;5;241m.\u001b[39mndim \u001b[38;5;241m>\u001b[39m \u001b[38;5;241m2\u001b[39m \u001b[38;5;129;01mor\u001b[39;00m y\u001b[38;5;241m.\u001b[39mndim \u001b[38;5;241m>\u001b[39m \u001b[38;5;241m2\u001b[39m:\n\u001b[1;32m    501\u001b[0m     \u001b[38;5;28;01mraise\u001b[39;00m \u001b[38;5;167;01mValueError\u001b[39;00m(\u001b[38;5;124mf\u001b[39m\u001b[38;5;124m\"\u001b[39m\u001b[38;5;124mx and y can be no greater than 2D, but have \u001b[39m\u001b[38;5;124m\"\u001b[39m\n\u001b[1;32m    502\u001b[0m                      \u001b[38;5;124mf\u001b[39m\u001b[38;5;124m\"\u001b[39m\u001b[38;5;124mshapes \u001b[39m\u001b[38;5;132;01m{\u001b[39;00mx\u001b[38;5;241m.\u001b[39mshape\u001b[38;5;132;01m}\u001b[39;00m\u001b[38;5;124m and \u001b[39m\u001b[38;5;132;01m{\u001b[39;00my\u001b[38;5;241m.\u001b[39mshape\u001b[38;5;132;01m}\u001b[39;00m\u001b[38;5;124m\"\u001b[39m)\n",
      "\u001b[0;31mValueError\u001b[0m: x and y must have same first dimension, but have shapes (140,) and (160,)"
     ]
    },
    {
     "data": {
      "image/png": "[encoded data removed]",
      "text/plain": [
       "<Figure size 432x288 with 1 Axes>"
      ]
     },
     "metadata": {
      "needs_background": "light"
     },
     "output_type": "display_data"
    }
   ],
   "source": [
    "\n",
    "fig = plt.figure()\n",
    "ax = fig.add_axes([0, 0, 1, 1])\n",
    "\n",
    "ax.plot(dimST, dep, ':.')\n",
    "\n",
    "ax.xaxis.set_tick_params(which = 'major', size = 5, width= 2, direction = 'in', top = 'off')\n",
    "ax.yaxis.set_tick_params(which = 'major', size = 5, width= 2, direction = 'in', top = 'off')\n",
    "ax.grid()\n",
    "ax.set_xlim([0.4, 0.8])\n",
    "ax.legend(['R = 30'])\n",
    "ax.set_ylim([0, 1])\n",
    "ax.set_ylabel('Deposition %',fontsize= 14, fontdict = font ) \n",
    "ax.set_xlabel('Stokes No (St) ',fontsize= 14, fontdict = font )\n",
    "\n",
    "\n",
    "# plt.savefig(\"Cheng\", \n",
    "#             dpi=1000, \n",
    "#              bbox_inches='tight', \n",
    "#              pad_inches =1, \n",
    "#              transparent = True, \n",
    "#              facecolor = 'w', \n",
    "#              edgecolor = 'w',\n",
    "#              orientation = 'landscape')"
   ]
  },
  {
   "cell_type": "code",
   "execution_count": 333,
   "id": "84efc3fe",
   "metadata": {},
   "outputs": [
    {
     "ename": "NameError",
     "evalue": "name 'nsolve' is not defined",
     "output_type": "error",
     "traceback": [
      "\u001b[0;31m---------------------------------------------------------------------------\u001b[0m",
      "\u001b[0;31mNameError\u001b[0m                                 Traceback (most recent call last)",
      "Input \u001b[0;32mIn [333]\u001b[0m, in \u001b[0;36m<cell line: 1>\u001b[0;34m()\u001b[0m\n\u001b[0;32m----> 1\u001b[0m \u001b[43mnsolve\u001b[49m(\u001b[38;5;241m2\u001b[39m\u001b[38;5;241m*\u001b[39mcos(x) \u001b[38;5;241m-\u001b[39m x, x, \u001b[38;5;241m1\u001b[39m)\n",
      "\u001b[0;31mNameError\u001b[0m: name 'nsolve' is not defined"
     ]
    }
   ],
   "source": [
    "nsolve(2*cos(x) - x, x, 1)\n"
   ]
  },
  {
   "cell_type": "code",
   "execution_count": 117,
   "id": "a309e7c3",
   "metadata": {},
   "outputs": [
    {
     "data": {
      "text/plain": [
       "-0.8939966636005579"
      ]
     },
     "execution_count": 117,
     "metadata": {},
     "output_type": "execute_result"
    }
   ],
   "source": [
    "math.sin(-90)"
   ]
  },
  {
   "cell_type": "code",
   "execution_count": 78,
   "id": "16434a9e",
   "metadata": {},
   "outputs": [],
   "source": []
  },
  {
   "cell_type": "code",
   "execution_count": 118,
   "id": "5cb248d5",
   "metadata": {},
   "outputs": [
    {
     "data": {
      "text/plain": [
       "124.20398812824104"
      ]
     },
     "execution_count": 118,
     "metadata": {},
     "output_type": "execute_result"
    }
   ],
   "source": [
    "\n",
    "eta**2"
   ]
  },
  {
   "cell_type": "code",
   "execution_count": 80,
   "id": "feb4bbfc",
   "metadata": {},
   "outputs": [],
   "source": [
    "BB = (eta - np.exp(root))**2\n",
    "CC = (eta + np.exp(root))**2\n",
    "ZC1 = 1 - (Ro**2 * BB/CC)\n",
    "ZC = ZC1**(1/2)"
   ]
  },
  {
   "cell_type": "code",
   "execution_count": 85,
   "id": "d9a16f3c",
   "metadata": {},
   "outputs": [],
   "source": [
    "m = (Ro**2 +1 )*ZC - 1/3 * ZC**3\n",
    "\n",
    "n = -1 + (1/(eta**2) *np.exp(2 *root))\n",
    "p = (1 + (1/(eta**2) *np.exp(2 *root))) *Ro\n",
    "\n",
    "o = ZC *(1- (ZC**2))**(1/2) + math.asin(ZC)"
   ]
  },
  {
   "cell_type": "code",
   "execution_count": 87,
   "id": "b9912e47",
   "metadata": {},
   "outputs": [],
   "source": [
    "Imp0 = 1/(3.14*Ro)*((m *n) + (Ro *p *o))"
   ]
  },
  {
   "cell_type": "code",
   "execution_count": 88,
   "id": "f0c3b124",
   "metadata": {},
   "outputs": [],
   "source": [
    "imp = 1-Imp0"
   ]
  },
  {
   "cell_type": "code",
   "execution_count": 120,
   "id": "7d772872",
   "metadata": {},
   "outputs": [
    {
     "data": {
      "text/plain": [
       "array([0.00392679])"
      ]
     },
     "execution_count": 120,
     "metadata": {},
     "output_type": "execute_result"
    }
   ],
   "source": [
    "(Ro *p *o)"
   ]
  },
  {
   "cell_type": "code",
   "execution_count": 250,
   "id": "74925c3d",
   "metadata": {},
   "outputs": [
    {
     "name": "stdout",
     "output_type": "stream",
     "text": [
      "-4.72686349\n"
     ]
    }
   ],
   "source": [
    "St = 0.5\n",
    "Ro = 5/100 #radius of bending\n",
    "K = 4/5 * St\n",
    "    \n",
    "\n",
    "\n",
    "A = (((K**2 + 1)**(1/2) + 1)*0.5)**(1/2)\n",
    "\n",
    "B = 0.5 * K/A\n",
    "\n",
    "\n",
    "from scipy.optimize import fsolve\n",
    "def func(x):\n",
    "    a = -A**2 - B**2 + B**3 * math.tan(B*x) - A**3 * math.tanh(A*x)\n",
    "    return x\n",
    "\n",
    "a= fsolve(func,0.1)\n",
    "print (x)\n",
    "\n",
    "        \n",
    "ro = fsolve(func, [1])\n",
    "root = (ro)\n"
   ]
  },
  {
   "cell_type": "code",
   "execution_count": 222,
   "id": "a45e1e2e",
   "metadata": {},
   "outputs": [
    {
     "data": {
      "text/plain": [
       "array([-4.72686349])"
      ]
     },
     "execution_count": 222,
     "metadata": {},
     "output_type": "execute_result"
    }
   ],
   "source": [
    "root"
   ]
  },
  {
   "cell_type": "code",
   "execution_count": 223,
   "id": "d044c569",
   "metadata": {},
   "outputs": [
    {
     "data": {
      "text/plain": [
       "1.0190762879752675"
      ]
     },
     "execution_count": 223,
     "metadata": {},
     "output_type": "execute_result"
    }
   ],
   "source": [
    "A\n"
   ]
  },
  {
   "cell_type": "code",
   "execution_count": 224,
   "id": "e5e71e17",
   "metadata": {},
   "outputs": [
    {
     "data": {
      "text/plain": [
       "0.19625616095667012"
      ]
     },
     "execution_count": 224,
     "metadata": {},
     "output_type": "execute_result"
    }
   ],
   "source": [
    "B"
   ]
  },
  {
   "cell_type": "code",
   "execution_count": 225,
   "id": "e4e37758",
   "metadata": {},
   "outputs": [],
   "source": [
    "x = -4.72686349\n",
    "aq = B**3 * math.tan(B*x) - A**3 * math.tanh(A*x)- A**2 - B**2"
   ]
  },
  {
   "cell_type": "code",
   "execution_count": 226,
   "id": "34026118",
   "metadata": {},
   "outputs": [
    {
     "data": {
      "text/plain": [
       "-0.02893078551512599"
      ]
     },
     "execution_count": 226,
     "metadata": {},
     "output_type": "execute_result"
    }
   ],
   "source": [
    "aq"
   ]
  },
  {
   "cell_type": "code",
   "execution_count": 325,
   "id": "2ee04f47",
   "metadata": {},
   "outputs": [],
   "source": [
    "a = np.arange(1,60,5)\n",
    "I = 11.04/10 * a"
   ]
  },
  {
   "cell_type": "code",
   "execution_count": 326,
   "id": "44567452",
   "metadata": {},
   "outputs": [
    {
     "data": {
      "image/png": "[encoded data removed]",
      "text/plain": [
       "<Figure size 432x288 with 1 Axes>"
      ]
     },
     "metadata": {
      "needs_background": "light"
     },
     "output_type": "display_data"
    }
   ],
   "source": [
    "fig = plt.figure()\n",
    "ax = fig.add_axes([0, 0, 1, 1])\n",
    "\n",
    "ax.plot(a,I,)\n",
    "\n",
    "ax.xaxis.set_tick_params(which = 'major', size = 5, width= 2, direction = 'in', top = 'off')\n",
    "ax.yaxis.set_tick_params(which = 'major', size = 5, width= 2, direction = 'in', top = 'off')\n",
    "ax.grid()\n",
    "ax.set_ylabel('Deposition %',fontsize= 14, fontdict = font ) \n",
    "ax.set_xlabel('10 ^6 Re $(d/D)^{2.5} sin^3 \\\\theta $ ',fontsize= 14, fontdict = font )\n",
    "\n",
    "\n",
    "plt.savefig(\"Johnston\", \n",
    "            dpi=1000, \n",
    "             bbox_inches='tight', \n",
    "             pad_inches =1, \n",
    "             transparent = True, \n",
    "             facecolor = 'w', \n",
    "             edgecolor = 'w',\n",
    "             orientation = 'landscape')"
   ]
  },
  {
   "cell_type": "code",
   "execution_count": 306,
   "id": "f3da55c8",
   "metadata": {},
   "outputs": [],
   "source": []
  },
  {
   "cell_type": "code",
   "execution_count": 307,
   "id": "45e188da",
   "metadata": {},
   "outputs": [
    {
     "data": {
      "text/plain": [
       "[<matplotlib.lines.Line2D at 0x7f8b0789dee0>]"
      ]
     },
     "execution_count": 307,
     "metadata": {},
     "output_type": "execute_result"
    },
    {
     "data": {
      "image/png": "[encoded data removed]",
      "text/plain": [
       "<Figure size 432x288 with 1 Axes>"
      ]
     },
     "metadata": {
      "needs_background": "light"
     },
     "output_type": "display_data"
    }
   ],
   "source": [
    "plt.plot(a,d)"
   ]
  },
  {
   "cell_type": "code",
   "execution_count": 309,
   "id": "c1a58d19",
   "metadata": {},
   "outputs": [
    {
     "data": {
      "image/png": "[encoded data removed]",
      "text/plain": [
       "<Figure size 432x288 with 1 Axes>"
      ]
     },
     "metadata": {
      "needs_background": "light"
     },
     "output_type": "display_data"
    }
   ],
   "source": [
    "a1 = np.arange(0,1,0.1)\n",
    "d = 1-(2/3.14* np.arccos(a)) + (1/3.14 * np.sin(2* np.arccos(a))  )\n",
    "\n",
    "fig = plt.figure()\n",
    "ax = fig.add_axes([0, 0, 1, 1])\n",
    "\n",
    "ax.plot(a1,d,)\n",
    "\n",
    "ax.xaxis.set_tick_params(which = 'major', size = 5, width= 2, direction = 'in', top = 'off')\n",
    "ax.yaxis.set_tick_params(which = 'major', size = 5, width= 2, direction = 'in', top = 'off')\n",
    "ax.grid()\n",
    "\n",
    "ax.set_ylabel('Deposition Efficiency',fontsize= 14, fontdict = font ) \n",
    "ax.set_xlabel(' $\\\\theta.St$ ',fontsize= 14, fontdict = font )\n",
    "\n",
    "\n",
    "plt.savefig(\"yeh1980\", \n",
    "            dpi=1000, \n",
    "             bbox_inches='tight', \n",
    "             pad_inches =1, \n",
    "             transparent = True, \n",
    "             facecolor = 'w', \n",
    "             edgecolor = 'w',\n",
    "             orientation = 'landscape')"
   ]
  },
  {
   "cell_type": "code",
   "execution_count": null,
   "id": "c8e30f55",
   "metadata": {},
   "outputs": [],
   "source": []
  }
 ],
 "metadata": {
  "kernelspec": {
   "display_name": "Python 3 (ipykernel)",
   "language": "python",
   "name": "python3"
  },
  "language_info": {
   "codemirror_mode": {
    "name": "ipython",
    "version": 3
   },
   "file_extension": ".py",
   "mimetype": "text/x-python",
   "name": "python",
   "nbconvert_exporter": "python",
   "pygments_lexer": "ipython3",
   "version": "3.9.12"
  }
 },
 "nbformat": 4,
 "nbformat_minor": 5
}
